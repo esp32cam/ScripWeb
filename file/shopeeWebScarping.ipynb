{
 "cells": [
  {
   "cell_type": "code",
   "execution_count": 3,
   "metadata": {},
   "outputs": [
    {
     "ename": "TypeError",
     "evalue": "WebDriver.__init__() got an unexpected keyword argument 'executable_path'",
     "output_type": "error",
     "traceback": [
      "\u001b[1;31m---------------------------------------------------------------------------\u001b[0m",
      "\u001b[1;31mTypeError\u001b[0m                                 Traceback (most recent call last)",
      "Cell \u001b[1;32mIn[3], line 23\u001b[0m\n\u001b[0;32m     20\u001b[0m options \u001b[38;5;241m=\u001b[39m webdriver\u001b[38;5;241m.\u001b[39mChromeOptions()\n\u001b[0;32m     21\u001b[0m options\u001b[38;5;241m.\u001b[39mheadless \u001b[38;5;241m=\u001b[39m \u001b[38;5;28;01mFalse\u001b[39;00m\n\u001b[1;32m---> 23\u001b[0m driver \u001b[38;5;241m=\u001b[39m \u001b[43muc\u001b[49m\u001b[38;5;241;43m.\u001b[39;49m\u001b[43mChrome\u001b[49m\u001b[43m(\u001b[49m\u001b[43moptions\u001b[49m\u001b[38;5;241;43m=\u001b[39;49m\u001b[43moptions\u001b[49m\u001b[43m)\u001b[49m\n\u001b[0;32m     24\u001b[0m driver\u001b[38;5;241m.\u001b[39mget(url)\n\u001b[0;32m     26\u001b[0m \u001b[38;5;28;01mtry\u001b[39;00m:\n\u001b[0;32m     27\u001b[0m     \u001b[38;5;66;03m# รอให้ป็อปอัพขึ้น\u001b[39;00m\n",
      "File \u001b[1;32mc:\\Users\\arzo4\\anaconda3\\lib\\site-packages\\undetected_chromedriver\\__init__.py:53\u001b[0m, in \u001b[0;36mChrome.__new__\u001b[1;34m(cls, emulate_touch, *args, **kwargs)\u001b[0m\n\u001b[0;32m     51\u001b[0m     kwargs[\u001b[38;5;124m\"\u001b[39m\u001b[38;5;124moptions\u001b[39m\u001b[38;5;124m\"\u001b[39m] \u001b[38;5;241m=\u001b[39m ChromeOptions()\n\u001b[0;32m     52\u001b[0m instance \u001b[38;5;241m=\u001b[39m \u001b[38;5;28mobject\u001b[39m\u001b[38;5;241m.\u001b[39m\u001b[38;5;21m__new__\u001b[39m(_Chrome)\n\u001b[1;32m---> 53\u001b[0m instance\u001b[38;5;241m.\u001b[39m\u001b[38;5;21m__init__\u001b[39m(\u001b[38;5;241m*\u001b[39margs, \u001b[38;5;241m*\u001b[39m\u001b[38;5;241m*\u001b[39mkwargs)\n\u001b[0;32m     55\u001b[0m instance\u001b[38;5;241m.\u001b[39m_orig_get \u001b[38;5;241m=\u001b[39m instance\u001b[38;5;241m.\u001b[39mget\n\u001b[0;32m     57\u001b[0m \u001b[38;5;28;01mdef\u001b[39;00m \u001b[38;5;21m_get_wrapped\u001b[39m(\u001b[38;5;241m*\u001b[39margs, \u001b[38;5;241m*\u001b[39m\u001b[38;5;241m*\u001b[39mkwargs):\n",
      "\u001b[1;31mTypeError\u001b[0m: WebDriver.__init__() got an unexpected keyword argument 'executable_path'"
     ]
    }
   ],
   "source": [
    "import time\n",
    "import pandas as pd\n",
    "import undetected_chromedriver as uc\n",
    "from selenium import webdriver\n",
    "from selenium.webdriver.common.by import By\n",
    "from selenium.webdriver.support.ui import WebDriverWait\n",
    "from selenium.webdriver.support import expected_conditions as EC\n",
    "\n",
    "# รายการของค่า list\n",
    "list_values = [11044959,11044945, 11044964, 11044948, 11044952, 11044946, 11044955, 11044963, 11044960, 11044947,11044950, 11044953, 11044942, 11044944, 11044949, 11044954, 11044956, 11044951, 11044958, 11044943, 11044962, 11044961, 11044957]\n",
    "\n",
    "# สร้าง DataFrame ว่างๆ เพื่อรวมผลลัพธ์\n",
    "result_df = pd.DataFrame()\n",
    "\n",
    "for value in list_values:\n",
    "    # สร้าง URL จากรายการ\n",
    "    url = f\"https://shopee.co.th/mall/brands/{value}\"\n",
    "\n",
    "    # เปิดเบราว์เซอร์และเข้าไปที่ URL\n",
    "    options = webdriver.ChromeOptions()\n",
    "    options.headless = False\n",
    "\n",
    "    driver = uc.Chrome(options=options)\n",
    "    driver.get(url)\n",
    "\n",
    "    try:\n",
    "        # รอให้ป็อปอัพขึ้น\n",
    "        WebDriverWait(driver, 5).until(\n",
    "            EC.presence_of_element_located((By.XPATH, '//*[@id=\"modal\"]/div[1]/div[1]/div/div[3]/div[1]/button'))\n",
    "        )\n",
    "\n",
    "        # ค้นหา element ด้วย XPath และคลิก\n",
    "        button = driver.find_element(By.XPATH, '//*[@id=\"modal\"]/div[1]/div[1]/div/div[3]/div[1]/button')\n",
    "        button.click()\n",
    "\n",
    "        # รอให้หน้าเว็บโหลดเสร็จ\n",
    "        WebDriverWait(driver, 5).until(EC.presence_of_element_located((By.CLASS_NAME, 'full-brand-list-item__brand-name')))\n",
    "\n",
    "        # ค้นหา Element ที่มี class \"full-brand-list-item__brand-name\"\n",
    "        brand_elements = driver.find_elements(By.CLASS_NAME, 'full-brand-list-item__brand-name')\n",
    "\n",
    "        # ค้นหา Element ที่มี class \"full-brand-list-item__brand-cover-image\"\n",
    "        brand_cover_elements = driver.find_elements(By.CLASS_NAME, 'full-brand-list-item__brand-cover-image')\n",
    "\n",
    "        # ดึงข้อมูลและบันทึกลงในรายการ\n",
    "        brand_list = [element.text for element in brand_elements]\n",
    "        brand_list2 = [element.get_attribute(\"href\") for element in brand_cover_elements]\n",
    "\n",
    "        # สร้าง DataFrame จากรายการ\n",
    "        temp_df = pd.DataFrame({'Brand Name': brand_list, 'Brand Link': brand_list2})\n",
    "\n",
    "        # เพิ่มผลลัพธ์ใน DataFrame รวม\n",
    "        result_df = pd.concat([result_df, temp_df], ignore_index=True)\n",
    "        \n",
    "        driver.close()\n",
    "        \n",
    "    except Exception as e:\n",
    "        print(f\"An error occurred: {e}\")\n",
    "\n",
    "    finally:\n",
    "        # ปิดเบราว์เซอร์\n",
    "        driver.quit()\n",
    "\n",
    "# พิมพ์ผลลัพธ์\n",
    "driver.quit()\n",
    "result_df = result_df.drop_duplicates(subset=['Brand Link'], keep='first')\n",
    "print(result_df)"
   ]
  },
  {
   "cell_type": "code",
   "execution_count": null,
   "metadata": {},
   "outputs": [],
   "source": [
    "# options = webdriver.ChromeOptions()\n",
    "# options.add_argument(\"--headless\")\n",
    "\n",
    "# driver = uc.Chrome(options=options, use_subprocess=False)"
   ]
  },
  {
   "cell_type": "code",
   "execution_count": 3,
   "metadata": {},
   "outputs": [
    {
     "name": "stdout",
     "output_type": "stream",
     "text": [
      "https://shopee.co.th/above.g\n"
     ]
    }
   ],
   "source": [
    "print(result_df['Brand Link'][0])"
   ]
  },
  {
   "cell_type": "code",
   "execution_count": null,
   "metadata": {},
   "outputs": [],
   "source": [
    "from selenium import webdriver\n",
    "from selenium.common.exceptions import NoSuchElementException, WebDriverException\n",
    "import pandas as pd\n",
    "\n",
    "# Set up the WebDriver (example for Chrome)\n",
    "options = webdriver.ChromeOptions()\n",
    "options.add_argument(\"--headless\")\n",
    "\n",
    "driver = uc.Chrome(options=options, use_subprocess=False)\n",
    "\n",
    "# Your specified XPath\n",
    "your_xpath = '//*[@id=\"main\"]/div/div[2]/div/div/div/div[2]/div/div[3]/div[2]/div[2]/div/fieldset/div[2]/section[1]/button[1]/span'\n",
    "\n",
    "data = []  # List to store data\n",
    "\n",
    "# Assuming result_df['Brand Link'] contains the URLs\n",
    "for url in result_df['Brand Link']:\n",
    "    i = 0\n",
    "    while True:\n",
    "        try:\n",
    "            new_url = url + f\"?page={i}\"\n",
    "            driver.get(new_url)\n",
    "\n",
    "            # Check if the element with your XPath exists\n",
    "            if not driver.find_elements(by=By.XPATH, value=your_xpath):\n",
    "                print(f\"Element with XPath '{your_xpath}' not found on {new_url}. Moving to next URL.\")\n",
    "                break\n",
    "\n",
    "            # Find all elements with the specified class and extract their text\n",
    "            elements = driver.find_elements_by_class_name('shop-search-result-view__item.col-xs-2-4')\n",
    "            for element in elements:\n",
    "                data.append(element.text)\n",
    "\n",
    "            # Increment i to access the next page\n",
    "            i += 1\n",
    "\n",
    "        except NoSuchElementException:\n",
    "            print(f\"Element with XPath '{your_xpath}' not found on {new_url}. Moving to next URL.\")\n",
    "            break\n",
    "\n",
    "        except WebDriverException as e:\n",
    "            print(f\"Error accessing {new_url}: {e}\")\n",
    "            break\n",
    "\n",
    "# Close the WebDriver\n",
    "driver.quit()\n",
    "\n",
    "# Create a DataFrame from the extracted data\n",
    "df = pd.DataFrame(data, columns=['Item Details'])\n",
    "print(df)\n"
   ]
  }
 ],
 "metadata": {
  "kernelspec": {
   "display_name": "base",
   "language": "python",
   "name": "python3"
  },
  "language_info": {
   "codemirror_mode": {
    "name": "ipython",
    "version": 3
   },
   "file_extension": ".py",
   "mimetype": "text/x-python",
   "name": "python",
   "nbconvert_exporter": "python",
   "pygments_lexer": "ipython3",
   "version": "3.10.9"
  }
 },
 "nbformat": 4,
 "nbformat_minor": 2
}
