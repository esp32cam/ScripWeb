{
 "cells": [
  {
   "cell_type": "code",
   "execution_count": 1,
   "metadata": {},
   "outputs": [],
   "source": [
    "def build_frequency(text):\n",
    "    frequency = {}\n",
    "    for char in text:\n",
    "        if char not in frequency:\n",
    "            frequency[char] = 0\n",
    "        frequency[char] += 1\n",
    "    return frequency\n",
    "\n"
   ]
  },
  {
   "cell_type": "code",
   "execution_count": 2,
   "metadata": {},
   "outputs": [],
   "source": [
    "import heapq\n",
    "\n",
    "class Node:\n",
    "    def __init__(self, char, freq):\n",
    "        self.char = char\n",
    "        self.freq = freq\n",
    "        self.left = None\n",
    "        self.right = None\n",
    "\n",
    "    def __lt__(self, other):\n",
    "        return self.freq < other.freq\n",
    "\n",
    "def build_tree(frequency):\n",
    "    priority_queue = [Node(char, freq) for char, freq in frequency.items()]\n",
    "    heapq.heapify(priority_queue)\n",
    "\n",
    "    while len(priority_queue) > 1:\n",
    "        left = heapq.heappop(priority_queue)\n",
    "        right = heapq.heappop(priority_queue)\n",
    "\n",
    "        merged = Node(None, left.freq + right.freq)\n",
    "        merged.left = left\n",
    "        merged.right = right\n",
    "\n",
    "        heapq.heappush(priority_queue, merged)\n",
    "\n",
    "    return priority_queue[0]  # Root of the Huffman Tree\n"
   ]
  },
  {
   "cell_type": "code",
   "execution_count": 6,
   "metadata": {},
   "outputs": [],
   "source": [
    "def generate_codes(node, code=\"\", mapping={}):\n",
    "    if node is None:\n",
    "        return\n",
    "\n",
    "    if node.char is not None:\n",
    "        mapping[node.char] = code\n",
    "        return\n",
    "\n",
    "    generate_codes(node.left, code + \"0\", mapping)\n",
    "    generate_codes(node.right, code + \"1\", mapping)\n",
    "\n",
    "    return mapping\n",
    "\n"
   ]
  },
  {
   "cell_type": "code",
   "execution_count": 3,
   "metadata": {},
   "outputs": [],
   "source": [
    "def encode(text, mapping):\n",
    "    return ''.join([mapping[char] for char in text])\n"
   ]
  },
  {
   "cell_type": "code",
   "execution_count": 4,
   "metadata": {},
   "outputs": [],
   "source": [
    "def huffman_encode(text):\n",
    "    frequency = build_frequency(text)\n",
    "    root = build_tree(frequency)\n",
    "    mapping = generate_codes(root)\n",
    "    encoded_text = encode(text, mapping)\n",
    "    return encoded_text, mapping\n"
   ]
  },
  {
   "cell_type": "code",
   "execution_count": 7,
   "metadata": {},
   "outputs": [
    {
     "data": {
      "text/plain": [
       "('01111000111111001010000001001010100011000111111100101001110010110100100011110010001011100001100101101111100101101110110100000111000110101001011100001100101001010100011000111000111000011001010101001000111111010110101100101100000011100101001110000110011110101101111111110101000001111001111010011011111110101000111100011111100101000000111110111000011001111011011101001001101111100110110011111101011010011100100111101110001010000101110100000101001100000000101110100111001100011111110010100000011100001100111110010111010110111010001011001000100110010111100000001100111101101110101011011011110000011010111001001100101101000010001110111100000010100101101000111001001011010111101001100010100110111111101010011000000001011101001110011000111111100101000001101001110111101110001010011100110111000011111110111100011100001100101010010000111011100111110110010101101011001011000100001111011011010000100011100001100101010010000111011100111110110010101101011010000000100000100101010001100001001110011100111110001010101101101011010111001001010100000101100111101100001001111101100000000101001001001010100011000111111100101001110000111001011001010001010111111100000000001101100010101111111101000110001110001010100110110100011000111111011101000101101100011110111101110001000001111011001010011100111110100011010111001101001110111101111010001111010100101101100111101100101011011001011111010011000110100111000101011001011110011000001011000111101110111111010100101101100011111011100001100111101101110101011001000101011111101101111011110100111111110100100011110100011000111000101010011011010001100011111001110010110010100010101111110111010001011100111110010100110001010110101011001011000110101101111111110101000001100011110101110010001011101101110100010110100111001010111010011000000111001001101001110010001101100111101100101011011110001110000110011111001011101011011100000101000111101110100111000010111111100001100001000101100101011010100011011011010110110001011111110011100011001011000100011100111101100111001011101000101110011010111001101100111001011011011110000000111000110101001010000100100010010111000011001010100100001110111001111101100101011011110100000001010010111111010101111011000010011001011000000111001010011100001100111101011011111111101010000011000110010011100111110100011010101110100010111010011000000111001001011101010011110001100010001110011110110001111111010011100010011111111101110111001010110011100011111111010011101101011101111000111111011101000100111101011111011011010111010111101001010111010100010101101101001001111111111011110011101001110111010010001100110100011110110111101111010011011100001100101011010100111100110100111001111011000110010110000001110010100111000011001101101001010010110101110111001101011100110110011100011111011100001100101010011100101100101111110100100011110011101001110111010010001100110100011110110111101111010011110100111001010100111100110100111001111011000110010111101011011110001110011011111111110110011111101001100000000101001011110011111110100111010100111100110001011001110111010001010111001101001110111101111000011000111100110010100111110000111000101100011100001100110101001000010110100111001111010110010110001000011101001110111010010001100110100111001111001011011101011010011111111101110111001010110011000011111110111100111111010011100001100101010010000111011100111110110010101101011111111010110111111111010100001111111011011101000101011110001011001110111010001010110000000010101101101101110000110011101000010011101111110001010111001011010010100110010110101111001010100011110111101110100011111110101100101100000011100101001110000110011111000000101010000000101010111101101111000100110110001111111101011011111111101010000111100001110001011000111000011001111100101110101101110100010110010001010110101000111100000010110111110100001101110011111011010011111101110100010110100111001010111010110111111111010100001101001110001001011011100111100111001111101000110100110010111100101001011001011111101001000111111111001001011111001111110001010111111101000000011111111111010110100111001010100111100011110010100101100101111110100100011100011111111001111000110010111100000001100111101101110101110100001101011011011010011110010001001101101011101111000001100001101001110000100001110111001111101100101011011011101000101100000001110111001111000001010110100111001101100011110111101011100001100111110010111010110101100101100011111000001110000110011010100100001011010001110011010000100101011001011001011111101001000111000101001100000000101100011100001100101011001011111010011110100111001001010001001111101100000000101001001011001111011001111011100010100010111100111100001110001011000111000011001011011001100001101000110000110000011110100010011000111001010000101010111010000110100111000101001010011000111111111101100011001',\n",
       " {'o': '000',\n",
       "  'd': '0010',\n",
       "  'h': '0011',\n",
       "  'k': '010000',\n",
       "  'g': '010001',\n",
       "  'p': '01001',\n",
       "  'r': '0101',\n",
       "  'W': '0110000',\n",
       "  'T': '01100010',\n",
       "  'D': '0110001100',\n",
       "  'C': '0110001101',\n",
       "  'I': '011000111',\n",
       "  '.': '011001',\n",
       "  'l': '01101',\n",
       "  'y': '01110',\n",
       "  'Y': '011110000',\n",
       "  'V': '011110001',\n",
       "  'R': '011110010',\n",
       "  'F': '0111100110',\n",
       "  'O': '0111100111',\n",
       "  '-': '0111101000',\n",
       "  'A': '0111101001',\n",
       "  'S': '011110101',\n",
       "  'x': '01111011',\n",
       "  ',': '011111',\n",
       "  'e': '100',\n",
       "  'n': '1010',\n",
       "  'a': '1011',\n",
       "  'f': '110000',\n",
       "  'b': '1100010',\n",
       "  'v': '1100011',\n",
       "  'u': '11001',\n",
       "  't': '1101',\n",
       "  's': '11100',\n",
       "  'c': '11101',\n",
       "  'w': '111100',\n",
       "  'm': '111101',\n",
       "  'i': '11111'})"
      ]
     },
     "execution_count": 7,
     "metadata": {},
     "output_type": "execute_result"
    }
   ],
   "source": [
    "text1 = '''Videoprovidesapowerfulwaytohelpyouproveyourpoint.WhenyouclickOnlineVideo,youcanpasteintheembedcodeforthevideoyouwanttoadd.Youcanalsotypeakeywordtosearchonlineforthevideothatbestfitsyourdocument.Tomakeyourdocumentlookprofessionallyproduced,Wordprovidesheader,footer,coverpage,andtextboxdesignsthatcomplementeachother.Forexample,youcanaddamatchingcoverpage,header,andsidebar.ClickInsertandthenchoosetheelementsyouwantfromthedifferentgalleries.Themesandstylesalsohelpkeepyourdocumentcoordinated.WhenyouclickDesignandchooseanewTheme,thepictures,charts,andSmartArtgraphicschangetomatchyournewtheme.Whenyouapplystyles,yourheadingschangetomatchthenewtheme.SavetimeinWordwithnewbuttonsthatshowupwhereyouneedthem.Tochangethewayapicturefitsinyourdocument,clickitandabuttonforlayoutoptionsappearsnexttoit.Whenyouworkonatable,clickwhereyouwanttoaddaroworacolumn,andthenclicktheplussign.Readingiseasier,too,inthenewReadingview.Youcancollapsepartsofthedocumentandfocusonthetextyouwant.Ifyouneedtostopreadingbeforeyoureachtheend,Wordrememberswhereyouleftoff-evenonanotherdevice.'''\n",
    "\n",
    "huffman_encode(text1)\n"
   ]
  },
  {
   "cell_type": "code",
   "execution_count": 8,
   "metadata": {},
   "outputs": [
    {
     "name": "stdout",
     "output_type": "stream",
     "text": [
      "Entropy: 4.415648780299454\n",
      "Average Length: 4.446848541862651\n",
      "Huffman code efficiency: 0.9929838488382319\n"
     ]
    }
   ],
   "source": [
    "import math\n",
    "\n",
    "def entropy(frequency, total_symbols):\n",
    "    \"\"\"Compute the entropy of a set of symbols with given frequencies.\"\"\"\n",
    "    H = 0\n",
    "    for symbol, freq in frequency.items():\n",
    "        prob = freq / total_symbols\n",
    "        H -= prob * math.log2(prob)\n",
    "    return H\n",
    "\n",
    "def average_length(frequency, huffman_mapping):\n",
    "    \"\"\"Compute the average length of Huffman codes for a set of symbols.\"\"\"\n",
    "    Lavg = 0\n",
    "    total_symbols = sum(frequency.values())\n",
    "    for symbol, freq in frequency.items():\n",
    "        prob = freq / total_symbols\n",
    "        Lavg += prob * len(huffman_mapping[symbol])\n",
    "    return Lavg\n",
    "\n",
    "# Example usage:\n",
    "\n",
    "frequency = build_frequency(text1)  # Assuming you have the build_frequency function from the previous example\n",
    "root = build_tree(frequency)\n",
    "huffman_mapping = generate_codes(root)\n",
    "\n",
    "H = entropy(frequency, len(text1))\n",
    "Lavg = average_length(frequency, huffman_mapping)\n",
    "Hce = H/Lavg\n",
    "\n",
    "print(f\"Entropy: {H}\")\n",
    "print(f\"Average Length: {Lavg}\")\n",
    "print(f\"Huffman code efficiency: {Hce}\")\n"
   ]
  }
 ],
 "metadata": {
  "kernelspec": {
   "display_name": "base",
   "language": "python",
   "name": "python3"
  },
  "language_info": {
   "codemirror_mode": {
    "name": "ipython",
    "version": 3
   },
   "file_extension": ".py",
   "mimetype": "text/x-python",
   "name": "python",
   "nbconvert_exporter": "python",
   "pygments_lexer": "ipython3",
   "version": "3.10.9"
  }
 },
 "nbformat": 4,
 "nbformat_minor": 2
}
