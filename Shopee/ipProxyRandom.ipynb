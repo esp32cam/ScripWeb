{
 "cells": [
  {
   "cell_type": "code",
   "execution_count": 1,
   "metadata": {},
   "outputs": [
    {
     "name": "stdout",
     "output_type": "stream",
     "text": [
      "Files created with shuffled and split IP addresses: output_file_1.txt to output_file_6.txt\n"
     ]
    }
   ],
   "source": [
    "import random\n",
    "\n",
    "# Function to read IP addresses from a file\n",
    "def read_ip_addresses(file_path):\n",
    "    with open(file_path, 'r') as file:\n",
    "        ip_addresses = [line.strip() for line in file]\n",
    "    return ip_addresses\n",
    "\n",
    "# Function to shuffle and split IP addresses into 6 files\n",
    "def shuffle_and_split(ip_addresses, num_files):\n",
    "    random.shuffle(ip_addresses)\n",
    "    split_size = len(ip_addresses) // num_files\n",
    "\n",
    "    # Create and write to 6 different files\n",
    "    for i in range(num_files):\n",
    "        start_idx = i * split_size\n",
    "        end_idx = (i + 1) * split_size if i < num_files - 1 else None\n",
    "        file_name = f\"output_file_{i + 1}.txt\"\n",
    "\n",
    "        with open(file_name, 'w') as file:\n",
    "            file.write('\\n'.join(ip_addresses[start_idx:end_idx]))\n",
    "\n",
    "# File path to your input file\n",
    "input_file_path = 'proxyscrape_premium_http_proxies.txt'\n",
    "\n",
    "# Number of output files\n",
    "num_output_files = 6\n",
    "\n",
    "# Read IP addresses from the file\n",
    "ip_addresses_list = read_ip_addresses(input_file_path)\n",
    "\n",
    "# Shuffle and split into 6 files\n",
    "shuffle_and_split(ip_addresses_list, num_output_files)\n",
    "\n",
    "print(f\"Files created with shuffled and split IP addresses: output_file_1.txt to output_file_6.txt\")\n"
   ]
  }
 ],
 "metadata": {
  "kernelspec": {
   "display_name": "base",
   "language": "python",
   "name": "python3"
  },
  "language_info": {
   "codemirror_mode": {
    "name": "ipython",
    "version": 3
   },
   "file_extension": ".py",
   "mimetype": "text/x-python",
   "name": "python",
   "nbconvert_exporter": "python",
   "pygments_lexer": "ipython3",
   "version": "3.10.9"
  }
 },
 "nbformat": 4,
 "nbformat_minor": 2
}
