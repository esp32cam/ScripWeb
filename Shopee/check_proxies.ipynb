{
 "cells": [
  {
   "cell_type": "code",
   "execution_count": 16,
   "metadata": {},
   "outputs": [
    {
     "name": "stdout",
     "output_type": "stream",
     "text": [
      "\n"
     ]
    }
   ],
   "source": [
    "\n",
    "import threading\n",
    "import queue\n",
    "\n",
    "import requests\n",
    "\n",
    "q = queue.Queue()\n",
    "valid_proxies = []\n",
    "\n",
    "with open(\"socks4_proxies.txt\", \"r\") as f:\n",
    "    proxies = f.read().split(\"\\n\")\n",
    "    \n",
    "    for p in proxies:\n",
    "        q.put(p)\n",
    "        \n",
    "def check_proxy():\n",
    "    global q\n",
    "    while not q.empty():\n",
    "        proxy = q.get()\n",
    "        try:\n",
    "            res = requests.get(\"https://ipinfo.io/json\", proxies={\"https\": proxy, \n",
    "                                                                \"http\": proxy})\n",
    "        \n",
    "        except:\n",
    "            continue\n",
    "        if res.status_code == 200:\n",
    "            valid_proxies.append(proxy)\n",
    "            print(proxy)\n",
    "\n",
    "for _ in range(10):\n",
    "    threading.Thread(target=check_proxy).start()\n",
    "    "
   ]
  },
  {
   "cell_type": "code",
   "execution_count": 15,
   "metadata": {},
   "outputs": [
    {
     "data": {
      "text/plain": [
       "[]"
      ]
     },
     "execution_count": 15,
     "metadata": {},
     "output_type": "execute_result"
    }
   ],
   "source": [
    "valid_proxies"
   ]
  },
  {
   "cell_type": "code",
   "execution_count": 13,
   "metadata": {},
   "outputs": [
    {
     "name": "stdout",
     "output_type": "stream",
     "text": [
      "181.48.155.78:8003\n",
      "45.65.137.218:999\n",
      "222.113.173.133:10118\n",
      "116.202.28.30:3128\n",
      "35.225.16.82:2387\n"
     ]
    }
   ],
   "source": [
    "with open(\"valid_proxies.txt\", \"w\") as f:\n",
    "    f.write(\"\\n\".join(valid_proxies))"
   ]
  },
  {
   "cell_type": "code",
   "execution_count": 4,
   "metadata": {},
   "outputs": [
    {
     "name": "stdout",
     "output_type": "stream",
     "text": [
      "k is None\n",
      "k is None and K1 is 20\n"
     ]
    }
   ],
   "source": [
    "k = None\n",
    "K1 = 20\n",
    "\n",
    "if k is None:\n",
    "    print (\"k is None\")\n",
    "if k is None and K1 == 20:\n",
    "    print(\"k is None and K1 is 20\")"
   ]
  },
  {
   "cell_type": "code",
   "execution_count": 11,
   "metadata": {},
   "outputs": [
    {
     "data": {
      "text/plain": [
       "1"
      ]
     },
     "execution_count": 11,
     "metadata": {},
     "output_type": "execute_result"
    }
   ],
   "source": [
    "url = ['https://shopee.co.th/american_tourister_thailand?page=1']\n",
    "numbers = [int(u.split('=')[1]) for u in url]\n",
    "\n",
    "number = numbers[0]\n",
    "number\n",
    "\n",
    "    "
   ]
  },
  {
   "cell_type": "code",
   "execution_count": 15,
   "metadata": {},
   "outputs": [
    {
     "name": "stdout",
     "output_type": "stream",
     "text": [
      "1243"
     ]
    }
   ],
   "source": [
    "lst1 = [1, 2, 4]\n",
    "lst2 = [3]\n",
    "\n",
    "for num in lst1 + lst2:\n",
    "    print(num, end='')\n",
    "\n"
   ]
  },
  {
   "cell_type": "code",
   "execution_count": 16,
   "metadata": {},
   "outputs": [
    {
     "name": "stdout",
     "output_type": "stream",
     "text": [
      "1243"
     ]
    }
   ],
   "source": [
    "lst1 = [1,2,4]\n",
    "lst2 = [3]\n",
    "\n",
    "for i in lst1:\n",
    "   print(i, end=\"\")\n",
    "for i in lst2:\n",
    "   print(i, end=\"\")"
   ]
  },
  {
   "cell_type": "code",
   "execution_count": 56,
   "metadata": {},
   "outputs": [
    {
     "name": "stdout",
     "output_type": "stream",
     "text": [
      "  name  numVM\n",
      "0    a      1\n",
      "1    b      4\n",
      "2    c      2\n",
      "3    d      4\n"
     ]
    }
   ],
   "source": [
    "import pandas as pd\n",
    "df = pd.DataFrame({'name': ['a', 'b', 'c', 'd'], 'numVM': [1, 4, 2, 4]})\n",
    "\n",
    "print(df)"
   ]
  },
  {
   "cell_type": "code",
   "execution_count": 57,
   "metadata": {},
   "outputs": [],
   "source": [
    "new_row = pd.DataFrame({'name': ['new_name'], 'numVM': [3]})\n",
    "# df = pd.concat([df.iloc[:2], new_row, df.iloc[2:]], ignore_index=True)\n",
    "# df"
   ]
  },
  {
   "cell_type": "code",
   "execution_count": 58,
   "metadata": {},
   "outputs": [
    {
     "name": "stdout",
     "output_type": "stream",
     "text": [
      "0\n",
      "1\n",
      "2\n",
      "3\n"
     ]
    }
   ],
   "source": [
    "\n",
    "for i in df.index:\n",
    "    print(i)"
   ]
  },
  {
   "cell_type": "code",
   "execution_count": 59,
   "metadata": {},
   "outputs": [
    {
     "name": "stdout",
     "output_type": "stream",
     "text": [
      "0\n",
      "1\n",
      "2\n",
      "3\n",
      "4\n"
     ]
    }
   ],
   "source": [
    "j = 0\n",
    "for i in df.index:\n",
    "    \n",
    "    j += 1\n",
    "    if j == 2:\n",
    "        df = pd.concat([df.iloc[:i], new_row, df.iloc[i:]], ignore_index=True)\n",
    "\n",
    "for i in df.index:\n",
    "    print(i)"
   ]
  },
  {
   "cell_type": "code",
   "execution_count": 61,
   "metadata": {},
   "outputs": [
    {
     "data": {
      "text/plain": [
       "8"
      ]
     },
     "execution_count": 61,
     "metadata": {},
     "output_type": "execute_result"
    }
   ],
   "source": [
    "lst = [1, 2, 3, 4, 5, 6, 7, 8, 9]\n",
    "url = 1\n",
    "lst.remove(url)\n",
    "len(lst)"
   ]
  },
  {
   "cell_type": "code",
   "execution_count": 42,
   "metadata": {},
   "outputs": [
    {
     "name": "stdout",
     "output_type": "stream",
     "text": [
      "   Column1 Column2\n",
      "0        1       A\n",
      "1        2       B\n",
      "2        4       D\n",
      "3        3       C\n"
     ]
    }
   ],
   "source": [
    "import pandas as pd\n",
    "\n",
    "# Your existing DataFrame\n",
    "data = {'Column1': [1, 2, 3],\n",
    "        'Column2': ['A', 'B', 'C']}\n",
    "df = pd.DataFrame(data)\n",
    "\n",
    "# New data to add\n",
    "new_data = {'Column1': [4],\n",
    "            'Column2': ['D']}\n",
    "new_df = pd.DataFrame(new_data)\n",
    "\n",
    "# Specify the index where you want to insert the new data\n",
    "index_to_insert = 2\n",
    "\n",
    "# Split the original DataFrame into two parts and concatenate the new data in between\n",
    "df = pd.concat([df.iloc[:index_to_insert], new_df, df.iloc[index_to_insert:]], ignore_index=True)\n",
    "\n",
    "print(df)"
   ]
  },
  {
   "cell_type": "code",
   "execution_count": 66,
   "metadata": {},
   "outputs": [
    {
     "name": "stdout",
     "output_type": "stream",
     "text": [
      "Empty List 1: []\n",
      "Empty List 2: []\n",
      "Empty List 3: []\n",
      "Empty List 4: []\n",
      "Empty List 5: []\n"
     ]
    }
   ],
   "source": [
    "def create_empty_lists(num):\n",
    "    if num <= 0:\n",
    "        print(\"Input number should be greater than 0.\")\n",
    "        return None\n",
    "\n",
    "    # Calculate the number of empty lists to create\n",
    "    num_lists = num // 20\n",
    "\n",
    "    # Create empty lists\n",
    "    result_lists = [[] for _ in range(num_lists)]\n",
    "\n",
    "    return result_lists\n",
    "\n",
    "# Example: create 5 empty lists for the input number 100\n",
    "result = create_empty_lists(100)\n",
    "\n",
    "# Print the result\n",
    "if result:\n",
    "    for i, lst in enumerate(result):\n",
    "        print(f'Empty List {i + 1}: {lst}')\n"
   ]
  },
  {
   "cell_type": "code",
   "execution_count": 112,
   "metadata": {},
   "outputs": [
    {
     "data": {
      "text/plain": [
       "3"
      ]
     },
     "execution_count": 112,
     "metadata": {},
     "output_type": "execute_result"
    }
   ],
   "source": [
    "import pandas as pd\n",
    "\n",
    "# Your existing DataFrame\n",
    "data = {'Column1': [1, 2, 3],\n",
    "        'Column2': ['A', 'asd', 'C']}\n",
    "df = pd.DataFrame(data)\n",
    "\n",
    "\n",
    "\n",
    "\n",
    "\n",
    "len(df)"
   ]
  },
  {
   "cell_type": "code",
   "execution_count": 99,
   "metadata": {},
   "outputs": [
    {
     "ename": "IndexError",
     "evalue": "list index out of range",
     "output_type": "error",
     "traceback": [
      "\u001b[1;31m---------------------------------------------------------------------------\u001b[0m",
      "\u001b[1;31mIndexError\u001b[0m                                Traceback (most recent call last)",
      "Cell \u001b[1;32mIn[99], line 4\u001b[0m\n\u001b[0;32m      1\u001b[0m page \u001b[38;5;241m=\u001b[39m data[\u001b[38;5;124m'\u001b[39m\u001b[38;5;124mColumn2\u001b[39m\u001b[38;5;124m'\u001b[39m][\u001b[38;5;241m1\u001b[39m]\n\u001b[0;32m      2\u001b[0m \u001b[38;5;66;03m# x = [int(u.split('=')[1]) for u in page]\u001b[39;00m\n\u001b[0;32m      3\u001b[0m \u001b[38;5;66;03m# current_page = x[0]\u001b[39;00m\n\u001b[1;32m----> 4\u001b[0m x \u001b[38;5;241m=\u001b[39m\u001b[43mpage\u001b[49m\u001b[38;5;241;43m.\u001b[39;49m\u001b[43msplit\u001b[49m\u001b[43m(\u001b[49m\u001b[38;5;124;43m'\u001b[39;49m\u001b[38;5;124;43m=\u001b[39;49m\u001b[38;5;124;43m'\u001b[39;49m\u001b[43m)\u001b[49m\u001b[43m[\u001b[49m\u001b[38;5;241;43m1\u001b[39;49m\u001b[43m]\u001b[49m\n",
      "\u001b[1;31mIndexError\u001b[0m: list index out of range"
     ]
    }
   ],
   "source": [
    "page = data['Column2'][1]\n",
    "# x = [int(u.split('=')[1]) for u in page]\n",
    "# current_page = x[0]\n",
    "x =page.split('=')[1]"
   ]
  },
  {
   "cell_type": "code",
   "execution_count": 104,
   "metadata": {},
   "outputs": [
    {
     "name": "stdout",
     "output_type": "stream",
     "text": [
      "1\n",
      "2\n"
     ]
    }
   ],
   "source": [
    "for i in range(1,3):\n",
    "    print(i)\n"
   ]
  },
  {
   "cell_type": "code",
   "execution_count": 111,
   "metadata": {},
   "outputs": [
    {
     "name": "stdout",
     "output_type": "stream",
     "text": [
      "https://shopee.co.th/?page=3\n",
      "https://shopee.co.th/?page=4\n",
      "https://shopee.co.th/?page=5\n"
     ]
    }
   ],
   "source": [
    "\n",
    "for list_number in range(1, 3+1):\n",
    "                        url = f'https://shopee.co.th/?page={str((list_number-1)+3)}'\n",
    "                        print(url)"
   ]
  },
  {
   "cell_type": "code",
   "execution_count": null,
   "metadata": {},
   "outputs": [],
   "source": [
    "elif element_pagemax > 20 and current_link is not None:\n",
    "            page_count = 0 \n",
    "            x = [int(u.split('=')[1]) for u in current_link]\n",
    "            current_page = x[0]\n",
    "            \n",
    "            try:\n",
    "                for list_number in range(current_page, element_pagemax):\n",
    "                    url = f'https://shopee.co.th/{store_name}?page={str(list_number)}'\n",
    "\n",
    "                    page_count += 1\n",
    "                    \n",
    "                    if page_count == 20:\n",
    "                        current_link.append(url)\n",
    "                        break\n",
    "                    \n",
    "                    driver.get(url)\n",
    "                    time.sleep(5)\n",
    "                    \n",
    "                    for item in range(1, 31):  # Loop through items\n",
    "                        try:\n",
    "                            \n",
    "                            xpath = f'//*[@id=\"main\"]/div/div[2]/div/div/div/div[2]/div/div[3]/div[2]/div[2]/div/div[1]/div/div[{item}]/a/div/div/div[2]/div[1]/div/div'\n",
    "                            element = driver.find_element(By.XPATH, xpath)\n",
    "\n",
    "                            # Extract and process data as needed\n",
    "                            data = element.text\n",
    "\n",
    "                            # Find the price element for the current item\n",
    "                            price_xpath = f'//*[@id=\"main\"]/div/div[2]/div/div/div/div[2]/div/div[3]/div[2]/div[2]/div/div[1]/div/div[{item}]/a/div/div/div[2]/div[2]/div/span[3]'\n",
    "                            price_element = driver.find_element(By.XPATH, price_xpath)\n",
    "\n",
    "                            # Extract and process price data\n",
    "                            price_data = price_element.text\n",
    "\n",
    "                            sales_xpath = f'//*[@id=\"main\"]/div/div[2]/div/div/div/div[2]/div/div[3]/div[2]/div[2]/div[1]/div[1]/div/div[{item}]/a/div/div/div[2]/div[3]/div[2]'\n",
    "                            sales_element = driver.find_element(By.XPATH, sales_xpath)\n",
    "                            sales_data = sales_element.text\n",
    "\n",
    "                            # Create a new DataFrame with the extracted data\n",
    "                            new_data = pd.DataFrame({'ชื่อสินค้า': [data], 'ราคา': [price_data],'จำนวนขาย':[sales_data],'ชื่อร้านค้า': [store_name]})\n",
    "\n",
    "                            # Concatenate the new DataFrame with the existing data_df\n",
    "                            data_df = pd.concat([data_df, new_data], ignore_index=True)\n",
    "                            \n",
    "\n",
    "                            store_item += 1\n",
    "  \n",
    "                        except (StaleElementReferenceException, TimeoutException, ConnectionRefusedError, NoSuchElementException ):\n",
    "                            continue  \n",
    "                            \n",
    "                    for item in range(1, 31):  # Loop through items \n",
    "                        try:\n",
    "                        \n",
    "                            xpath2 = f'//*[@id=\"main\"]/div/div[2]/div/div/div/div[2]/div/div[3]/div[2]/div[2]/div[2]/div/div[2]/div/div[{item}]/a/div/div'\n",
    "                            element2 = driver.find_element(By.XPATH, xpath2)\n",
    "\n",
    "                            # Extract and process data as needed\n",
    "                            data2 = element2.text\n",
    "\n",
    "                            # Find the price element for the current item\n",
    "                            price_xpath2 = f'//*[@id=\"main\"]/div/div[2]/div/div/div/div[2]/div/div[3]/div[2]/div[2]/div[2]/div/div[2]/div/div[{item}]/a/div/div/div[2]/div[2]/div/span[3]'\n",
    "                            price_element2 = driver.find_element(By.XPATH, price_xpath2)\n",
    "\n",
    "                            # Extract and process price data\n",
    "                            price_data2 = price_element2.text\n",
    "\n",
    "                            sales_xpath2 = f'//*[@id=\"main\"]/div/div[2]/div/div/div/div[2]/div/div[3]/div[2]/div[2]/div[2]/div/div[2]/div/div[{item}]/a/div/div/div[2]/div[3]/div[2]'\n",
    "                            sales_element2 = driver.find_element(By.XPATH, sales_xpath2)\n",
    "                            sales_data2 = sales_element2.text\n",
    "\n",
    "                            # Create a new DataFrame with the extracted data\n",
    "                            new_data2 = pd.DataFrame({'ชื่อสินค้า': [data2], 'ราคา': [price_data2],'จำนวนขาย':[sales_data2],'ชื่อร้านค้า': [store_name]})\n",
    "\n",
    "                            # Concatenate the new DataFrame with the existing data_df\n",
    "                            data_df = pd.concat([data_df, new_data2], ignore_index=True)  \n",
    "                            \n",
    "                            \n",
    "                        except (StaleElementReferenceException, TimeoutException, ConnectionRefusedError, NoSuchElementException ):\n",
    "                            continue  \n",
    "                    print(f'{store_name} เก็บสินค้าครั้งใหม่ ได้จำนวน {store_item}')\n",
    "            except:\n",
    "                print(\"Next page not found.\")"
   ]
  }
 ],
 "metadata": {
  "kernelspec": {
   "display_name": "base",
   "language": "python",
   "name": "python3"
  },
  "language_info": {
   "codemirror_mode": {
    "name": "ipython",
    "version": 3
   },
   "file_extension": ".py",
   "mimetype": "text/x-python",
   "name": "python",
   "nbconvert_exporter": "python",
   "pygments_lexer": "ipython3",
   "version": "3.10.9"
  }
 },
 "nbformat": 4,
 "nbformat_minor": 2
}
