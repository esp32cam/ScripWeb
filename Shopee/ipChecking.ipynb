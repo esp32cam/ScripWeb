{
 "cells": [
  {
   "cell_type": "code",
   "execution_count": 1,
   "metadata": {},
   "outputs": [],
   "source": [
    "# Load proxies from valid_proxies.txt\n",
    "with open(\"proxyscrape_premium_http_proxies.txt\", \"r\") as file:\n",
    "    proxies = file.read().splitlines()"
   ]
  },
  {
   "cell_type": "code",
   "execution_count": 2,
   "metadata": {},
   "outputs": [
    {
     "name": "stdout",
     "output_type": "stream",
     "text": [
      "The list does not contain duplicate IP addresses.\n"
     ]
    }
   ],
   "source": [
    "def has_duplicates(lst):\n",
    "    seen = set()\n",
    "    for item in lst:\n",
    "        if item in seen:\n",
    "            return True\n",
    "        seen.add(item)\n",
    "    return False\n",
    "\n",
    "if has_duplicates(proxies):\n",
    "    print(\"The list contains duplicate IP addresses.\")\n",
    "    duplicates = [item for item in set(proxies) if proxies.count(item) > 1]\n",
    "    print(\"Duplicate IP addresses:\", duplicates)\n",
    "else:\n",
    "    print(\"The list does not contain duplicate IP addresses.\")"
   ]
  }
 ],
 "metadata": {
  "kernelspec": {
   "display_name": "base",
   "language": "python",
   "name": "python3"
  },
  "language_info": {
   "codemirror_mode": {
    "name": "ipython",
    "version": 3
   },
   "file_extension": ".py",
   "mimetype": "text/x-python",
   "name": "python",
   "nbconvert_exporter": "python",
   "pygments_lexer": "ipython3",
   "version": "3.10.9"
  }
 },
 "nbformat": 4,
 "nbformat_minor": 2
}
